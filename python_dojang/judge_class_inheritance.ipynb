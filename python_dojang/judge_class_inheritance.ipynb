{
  "nbformat": 4,
  "nbformat_minor": 0,
  "metadata": {
    "colab": {
      "provenance": []
    },
    "kernelspec": {
      "name": "python3",
      "display_name": "Python 3"
    },
    "language_info": {
      "name": "python"
    }
  },
  "cells": [
    {
      "cell_type": "code",
      "execution_count": 4,
      "metadata": {
        "colab": {
          "base_uri": "https://localhost:8080/"
        },
        "id": "BxQ4V-VyGbZ8",
        "outputId": "81833a72-5b8f-4123-9dd9-ff9f419b67bf"
      },
      "outputs": [
        {
          "output_type": "stream",
          "name": "stdout",
          "text": [
            "eat\n",
            "flat\n",
            "fly\n",
            "True\n",
            "True\n"
          ]
        }
      ],
      "source": [
        "class Animal:\n",
        "  def eat(self):\n",
        "    print('eat')\n",
        "\n",
        "class Wing:\n",
        "  def flat(self):\n",
        "    print('flat')\n",
        "\n",
        "class Bird(Animal, Wing):\n",
        "  def fly(self):\n",
        "    print('fly')\n",
        "\n",
        "b = Bird()\n",
        "b.eat()\n",
        "b.flat()\n",
        "b.fly()\n",
        "print(issubclass(Bird, Animal))\n",
        "print(issubclass(Bird, Wing))"
      ]
    }
  ]
}