{
  "nbformat": 4,
  "nbformat_minor": 0,
  "metadata": {
    "colab": {
      "provenance": []
    },
    "kernelspec": {
      "name": "python3",
      "display_name": "Python 3"
    },
    "language_info": {
      "name": "python"
    }
  },
  "cells": [
    {
      "cell_type": "code",
      "execution_count": 1,
      "metadata": {
        "colab": {
          "base_uri": "https://localhost:8080/"
        },
        "id": "H1TvXVkLxf0_",
        "outputId": "0bbf4f86-c870-4117-e9c5-019ff22770a3"
      },
      "outputs": [
        {
          "output_type": "stream",
          "name": "stdout",
          "text": [
            "5\n",
            "nothing\n"
          ]
        }
      ],
      "source": [
        "x = int(input())\n",
        "\n",
        "if 11 <= x <= 20:\n",
        "  print('11~20')\n",
        "elif 21 <= x <= 30:\n",
        "  print('21~30')\n",
        "else:\n",
        "  print('nothing')"
      ]
    }
  ]
}