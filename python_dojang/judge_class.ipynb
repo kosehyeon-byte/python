{
  "nbformat": 4,
  "nbformat_minor": 0,
  "metadata": {
    "colab": {
      "provenance": []
    },
    "kernelspec": {
      "name": "python3",
      "display_name": "Python 3"
    },
    "language_info": {
      "name": "python"
    }
  },
  "cells": [
    {
      "cell_type": "code",
      "execution_count": 1,
      "metadata": {
        "colab": {
          "base_uri": "https://localhost:8080/"
        },
        "id": "x36CNTuYFZ0q",
        "outputId": "92834fb2-6801-4a03-a320-05a247513129"
      },
      "outputs": [
        {
          "output_type": "stream",
          "name": "stdout",
          "text": [
            "511.68 334.0 298\n",
            "티버: 피해량 593.7\n"
          ]
        }
      ],
      "source": [
        "class Annie:\n",
        "    def __init__(self, health, mana, ability_power):\n",
        "        self.health = health\n",
        "        self.mana = mana\n",
        "        self.ability_power = ability_power\n",
        "\n",
        "    def tibbers(self):\n",
        "        print(\"티버: 피해량 {0}\".format(self.ability_power * 0.65 + 400))\n",
        "\n",
        "health, mana, ability_power = map(float, input().split())\n",
        "\n",
        "x = Annie(health=health, mana=mana, ability_power=ability_power)\n",
        "x.tibbers()"
      ]
    }
  ]
}