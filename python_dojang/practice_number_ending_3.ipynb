{
 "cells": [
  {
   "cell_type": "code",
   "execution_count": 1,
   "id": "eb7dc4f8",
   "metadata": {},
   "outputs": [
    {
     "name": "stdout",
     "output_type": "stream",
     "text": [
      "3 13 23 33 43 53 63 73 "
     ]
    }
   ],
   "source": [
    "i = 0\n",
    "while True:\n",
    "    if i % 10 != 3:\n",
    "        i += 1\n",
    "        continue\n",
    "    if i > 73:\n",
    "        break\n",
    "    print(i, end=' ')\n",
    "    i += 1"
   ]
  }
 ],
 "metadata": {
  "kernelspec": {
   "display_name": "Python 3",
   "language": "python",
   "name": "python3"
  },
  "language_info": {
   "codemirror_mode": {
    "name": "ipython",
    "version": 3
   },
   "file_extension": ".py",
   "mimetype": "text/x-python",
   "name": "python",
   "nbconvert_exporter": "python",
   "pygments_lexer": "ipython3",
   "version": "3.13.7"
  }
 },
 "nbformat": 4,
 "nbformat_minor": 5
}
