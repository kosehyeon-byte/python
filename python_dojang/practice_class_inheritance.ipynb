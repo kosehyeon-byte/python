{
  "nbformat": 4,
  "nbformat_minor": 0,
  "metadata": {
    "colab": {
      "provenance": []
    },
    "kernelspec": {
      "name": "python3",
      "display_name": "Python 3"
    },
    "language_info": {
      "name": "python"
    }
  },
  "cells": [
    {
      "cell_type": "code",
      "execution_count": 3,
      "metadata": {
        "colab": {
          "base_uri": "https://localhost:8080/"
        },
        "id": "BxQ4V-VyGbZ8",
        "outputId": "93823fac-aa1b-4326-ac14-931ffda2dcca"
      },
      "outputs": [
        {
          "output_type": "stream",
          "name": "stdout",
          "text": [
            "[100, 2, 3, 100, 2, 3, 100, 2, 3]\n"
          ]
        }
      ],
      "source": [
        "class AdvancedList(list):\n",
        "    def __init__(self, *args):\n",
        "      super().__init__(*args)\n",
        "\n",
        "    def replace(self, old, new):\n",
        "      for (i, val) in enumerate(self):\n",
        "        if val == old:\n",
        "          self[i] = new\n",
        "\n",
        "    def __str__(self):\n",
        "      return super().__str__()\n",
        "\n",
        "\n",
        "x = AdvancedList([1, 2, 3, 1, 2, 3, 1, 2, 3])\n",
        "x.replace(1, 100)\n",
        "print(x)"
      ]
    }
  ]
}