{
  "nbformat": 4,
  "nbformat_minor": 0,
  "metadata": {
    "colab": {
      "provenance": []
    },
    "kernelspec": {
      "name": "python3",
      "display_name": "Python 3"
    },
    "language_info": {
      "name": "python"
    }
  },
  "cells": [
    {
      "cell_type": "code",
      "execution_count": null,
      "metadata": {
        "id": "1akvn2BnjSPh"
      },
      "outputs": [],
      "source": [
        "class Date:\n",
        "  @staticmethod\n",
        "  def is_date_valid(str):\n",
        "    year, month, day = map(int, str.split('-'))\n",
        "    return month <= 12 and day <= 31\n",
        "\n",
        "\n",
        "if Date.is_date_valid('2000-10-31'):\n",
        "    print('올바른 날짜 형식입니다.')\n",
        "else:\n",
        "    print('잘못된 날짜 형식입니다.')"
      ]
    }
  ]
}