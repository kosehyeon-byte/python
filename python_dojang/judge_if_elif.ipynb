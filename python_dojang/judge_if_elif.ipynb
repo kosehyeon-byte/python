{
  "nbformat": 4,
  "nbformat_minor": 0,
  "metadata": {
    "colab": {
      "provenance": []
    },
    "kernelspec": {
      "name": "python3",
      "display_name": "Python 3"
    },
    "language_info": {
      "name": "python"
    }
  },
  "cells": [
    {
      "cell_type": "code",
      "execution_count": 3,
      "metadata": {
        "colab": {
          "base_uri": "https://localhost:8080/"
        },
        "id": "H1TvXVkLxf0_",
        "outputId": "b0c66f78-4b1e-4318-a88c-52602d38801f"
      },
      "outputs": [
        {
          "output_type": "stream",
          "name": "stdout",
          "text": [
            "12\n",
            "8350\n"
          ]
        }
      ],
      "source": [
        "age=int(input())\n",
        "\n",
        "balance = 9000\n",
        "\n",
        "if 7<=age<=12:\n",
        "  balance = balance - 650\n",
        "elif 13<=age<=18:\n",
        "  balance = balance - 1050\n",
        "elif age >= 19:\n",
        "  balance = balance - 1250\n",
        "\n",
        "print(balance)"
      ]
    }
  ]
}