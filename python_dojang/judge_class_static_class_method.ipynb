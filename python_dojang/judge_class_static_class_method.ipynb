{
  "nbformat": 4,
  "nbformat_minor": 0,
  "metadata": {
    "colab": {
      "provenance": []
    },
    "kernelspec": {
      "name": "python3",
      "display_name": "Python 3"
    },
    "language_info": {
      "name": "python"
    }
  },
  "cells": [
    {
      "cell_type": "code",
      "execution_count": 2,
      "metadata": {
        "colab": {
          "base_uri": "https://localhost:8080/"
        },
        "id": "1akvn2BnjSPh",
        "outputId": "a945a0ab-5a60-4d0a-a175-d6f16987fb56"
      },
      "outputs": [
        {
          "output_type": "stream",
          "name": "stdout",
          "text": [
            "12:62:43\n",
            "잘못된 시간 형식입니다.\n"
          ]
        }
      ],
      "source": [
        "class Time:\n",
        "    def __init__(self, hour, minute, second):\n",
        "        self.hour = hour\n",
        "        self.minute = minute\n",
        "        self.second = second\n",
        "\n",
        "    @classmethod\n",
        "    def is_time_valid(cls, time_string):\n",
        "        hour, minute, second = map(int, time_string.split(':'))\n",
        "        return 0 <= hour <= 23 and 0 <= minute <= 59 and 0 <= second <= 59\n",
        "\n",
        "    @classmethod\n",
        "    def from_string(cls, time_string):\n",
        "        hour, minute, second = map(int, time_string.split(':'))\n",
        "        return cls(hour, minute, second)\n",
        "\n",
        "\n",
        "time_string = input()\n",
        "\n",
        "if Time.is_time_valid(time_string):\n",
        "    t = Time.from_string(time_string)\n",
        "    print(t.hour, t.minute, t.second)\n",
        "else:\n",
        "    print('잘못된 시간 형식입니다.')"
      ]
    }
  ]
}