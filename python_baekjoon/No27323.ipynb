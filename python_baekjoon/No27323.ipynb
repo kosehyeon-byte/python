{
 "cells": [
  {
   "cell_type": "code",
   "execution_count": null,
   "id": "6705e32e",
   "metadata": {},
   "outputs": [],
   "source": [
    "a = int(input())\n",
    "b = int(input())\n",
    "print(a*b)"
   ]
  }
 ],
 "metadata": {
  "language_info": {
   "name": "python"
  }
 },
 "nbformat": 4,
 "nbformat_minor": 5
}
