{
 "cells": [
  {
   "cell_type": "code",
   "execution_count": null,
   "id": "aab4330b",
   "metadata": {},
   "outputs": [],
   "source": [
    "a = int(input())\n",
    "print(4*a)"
   ]
  }
 ],
 "metadata": {
  "language_info": {
   "name": "python"
  }
 },
 "nbformat": 4,
 "nbformat_minor": 5
}
