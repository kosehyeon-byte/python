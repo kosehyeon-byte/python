{
  "nbformat": 4,
  "nbformat_minor": 0,
  "metadata": {
    "colab": {
      "provenance": []
    },
    "kernelspec": {
      "name": "python3",
      "display_name": "Python 3"
    },
    "language_info": {
      "name": "python"
    }
  },
  "cells": [
    {
      "cell_type": "code",
      "execution_count": 2,
      "metadata": {
        "colab": {
          "base_uri": "https://localhost:8080/"
        },
        "id": "Pza-q_mXT0EZ",
        "outputId": "1cb1776d-2b40-493e-e621-a315942794f3"
      },
      "outputs": [
        {
          "output_type": "stream",
          "name": "stdout",
          "text": [
            "8 16\n",
            "32 4\n",
            "17 5\n",
            "0 0\n",
            "factor\n",
            "multiple\n",
            "neither\n"
          ]
        }
      ],
      "source": [
        "\n",
        "while True:\n",
        "  a , b = map(int , input().split())\n",
        "  if a == 0 and b == 0:\n",
        "    break\n",
        "  elif b % a == 0:\n",
        "    print(\"factor\")\n",
        "  elif a % b == 0:\n",
        "    print(\"multiple\")\n",
        "  else:\n",
        "    print(\"neither\")\n",
        "\n",
        "\n",
        "\n",
        "\n"
      ]
    }
  ]
}