{
  "nbformat": 4,
  "nbformat_minor": 0,
  "metadata": {
    "colab": {
      "provenance": []
    },
    "kernelspec": {
      "name": "python3",
      "display_name": "Python 3"
    },
    "language_info": {
      "name": "python"
    }
  },
  "cells": [
    {
      "cell_type": "code",
      "execution_count": 4,
      "metadata": {
        "colab": {
          "base_uri": "https://localhost:8080/"
        },
        "id": "2kJoRoRxEVZA",
        "outputId": "f43de949-ce22-4fd8-c85a-7d931af9d175"
      },
      "outputs": [
        {
          "output_type": "stream",
          "name": "stdout",
          "text": [
            "4\n",
            "5\n",
            "0.8\n"
          ]
        }
      ],
      "source": [
        "a=float(input())\n",
        "b=float(input())\n",
        "\n",
        "print(a/b)"
      ]
    }
  ]
}