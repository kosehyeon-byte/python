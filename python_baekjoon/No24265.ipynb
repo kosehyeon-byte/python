{
 "cells": [
  {
   "cell_type": "code",
   "execution_count": null,
   "id": "8d58db3f",
   "metadata": {},
   "outputs": [],
   "source": [
    "n = int(input())\n",
    "\n",
    "print(n*(n-1)//2)\n",
    "print(2)"
   ]
  }
 ],
 "metadata": {
  "language_info": {
   "name": "python"
  }
 },
 "nbformat": 4,
 "nbformat_minor": 5
}
