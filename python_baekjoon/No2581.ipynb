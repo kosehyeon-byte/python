{
 "cells": [
  {
   "cell_type": "code",
   "execution_count": null,
   "id": "7247a7a1",
   "metadata": {},
   "outputs": [],
   "source": [
    "a, b = map(int, input().split())\n",
    "if a == 1:\n",
    "    a += 1\n",
    "sum_num = 0\n",
    "min_val = -1\n",
    "primenum = [True] * (b + 1)\n",
    "primenum[0] = primenum[1] = False\n",
    "for i in range(2, int(b**0.5) + 1):\n",
    "    if primenum[i]:\n",
    "        for j in range(i * i, b + 1, i):\n",
    "            primenum[j] = False\n",
    "for i in range(a, b + 1):\n",
    "    if min_val == -1 and primenum[i]:\n",
    "        min_val = i\n",
    "    if primenum[i]:\n",
    "        sum_num += i\n",
    "if min_val == -1:\n",
    "    print(-1)\n",
    "    exit()\n",
    "print(sum_num)\n",
    "print(min_val)"
   ]
  }
 ],
 "metadata": {
  "kernelspec": {
   "display_name": "Python 3",
   "language": "python",
   "name": "python3"
  },
  "language_info": {
   "name": "python",
   "version": "3.13.7"
  }
 },
 "nbformat": 4,
 "nbformat_minor": 5
}
