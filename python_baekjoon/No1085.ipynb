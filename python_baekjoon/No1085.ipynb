{
 "cells": [
  {
   "cell_type": "code",
   "execution_count": null,
   "id": "6a5def20",
   "metadata": {},
   "outputs": [],
   "source": [
    "x,y,w,h = map(int, input().split())\n",
    "a = min(x, y, w-x, h-y)\n",
    "print(a)"
   ]
  }
 ],
 "metadata": {
  "language_info": {
   "name": "python"
  }
 },
 "nbformat": 4,
 "nbformat_minor": 5
}
