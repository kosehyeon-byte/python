{
 "cells": [
  {
   "cell_type": "code",
   "execution_count": 3,
   "id": "c7b1a387",
   "metadata": {},
   "outputs": [
    {
     "name": "stdout",
     "output_type": "stream",
     "text": [
      "6=1+2+3\n",
      "12 is NOT PERFECT.\n",
      "28=1+2+4+7+14\n"
     ]
    }
   ],
   "source": [
    "import math\n",
    "\n",
    "while True:\n",
    "    factor = []\n",
    "    sumfactor = 0\n",
    "    a=int(input())\n",
    "    if a == -1:\n",
    "        break\n",
    "\n",
    "    for i in range(1, math.isqrt(a)+1):\n",
    "        if a % i == 0:\n",
    "            factor.append(i)\n",
    "            if i != a // i:\n",
    "                factor.append(a // i)\n",
    "\n",
    "    factor.sort()\n",
    "\n",
    "    for i in range(len(factor)-1):\n",
    "        sumfactor += factor[i]\n",
    "\n",
    "    if sumfactor == a:\n",
    "        b=''\n",
    "        b += str(factor[-1]) + '='\n",
    "        for i in range(len(factor)-2):\n",
    "            b += str(factor[i]) + '+'\n",
    "        b += str(factor[-2])\n",
    "        print(b)\n",
    "    else:\n",
    "        print(a, \"is NOT PERFECT.\")\n",
    "\n",
    "\n",
    "\n"
   ]
  }
 ],
 "metadata": {
  "kernelspec": {
   "display_name": "Python 3",
   "language": "python",
   "name": "python3"
  },
  "language_info": {
   "codemirror_mode": {
    "name": "ipython",
    "version": 3
   },
   "file_extension": ".py",
   "mimetype": "text/x-python",
   "name": "python",
   "nbconvert_exporter": "python",
   "pygments_lexer": "ipython3",
   "version": "3.13.7"
  }
 },
 "nbformat": 4,
 "nbformat_minor": 5
}
