{
 "cells": [
  {
   "cell_type": "code",
   "execution_count": null,
   "id": "dfce8058",
   "metadata": {},
   "outputs": [
    {
     "name": "stdout",
     "output_type": "stream",
     "text": [
      "97\n",
      "103\n"
     ]
    }
   ],
   "source": [
    "a = int(input())\n",
    "if a ==1:\n",
    "    exit()\n",
    "while a != 1:\n",
    "    for i in range(2, a+1):\n",
    "        if a % i == 0:\n",
    "            print(i)\n",
    "            a //= i\n",
    "            break\n"
   ]
  }
 ],
 "metadata": {
  "kernelspec": {
   "display_name": "Python 3",
   "language": "python",
   "name": "python3"
  },
  "language_info": {
   "codemirror_mode": {
    "name": "ipython",
    "version": 3
   },
   "file_extension": ".py",
   "mimetype": "text/x-python",
   "name": "python",
   "nbconvert_exporter": "python",
   "pygments_lexer": "ipython3",
   "version": "3.13.7"
  }
 },
 "nbformat": 4,
 "nbformat_minor": 5
}
