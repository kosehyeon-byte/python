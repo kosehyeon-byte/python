{
 "cells": [
  {
   "cell_type": "code",
   "execution_count": null,
   "id": "65365d8d",
   "metadata": {},
   "outputs": [],
   "source": [
    "x1, y1 = map(int, input().split())\n",
    "x2, y2 = map(int, input().split())\n",
    "x3, y3 = map(int, input().split())\n",
    "a=x1\n",
    "b=y1\n",
    "if x1==x2:\n",
    "    a=x3\n",
    "elif x1==x3:\n",
    "    a=x2\n",
    "\n",
    "if y1==y2:\n",
    "    b=y3\n",
    "elif y1==y3:\n",
    "    b=y2\n",
    "\n",
    "print(a, b)\n"
   ]
  }
 ],
 "metadata": {
  "language_info": {
   "name": "python"
  }
 },
 "nbformat": 4,
 "nbformat_minor": 5
}
