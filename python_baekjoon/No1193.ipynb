{
  "nbformat": 4,
  "nbformat_minor": 0,
  "metadata": {
    "colab": {
      "provenance": []
    },
    "kernelspec": {
      "name": "python3",
      "display_name": "Python 3"
    },
    "language_info": {
      "name": "python"
    }
  },
  "cells": [
    {
      "cell_type": "code",
      "execution_count": 21,
      "metadata": {
        "colab": {
          "base_uri": "https://localhost:8080/"
        },
        "id": "H1TvXVkLxf0_",
        "outputId": "d9e8b64e-ae7a-487b-defa-65d4355d05cd"
      },
      "outputs": [
        {
          "output_type": "stream",
          "name": "stdout",
          "text": [
            "3\n",
            "2/1\n"
          ]
        }
      ],
      "source": [
        "def sum(n):\n",
        "  num = 0\n",
        "  for i in range(n+1):\n",
        "    num+=i\n",
        "  return num\n",
        "\n",
        "start = 1\n",
        "n = int(input())\n",
        "\n",
        "while True:\n",
        "  if n == 1:\n",
        "    print(str('1/1'));\n",
        "    break\n",
        "\n",
        "  if n == 2:\n",
        "    print(str('1/2'));\n",
        "    break\n",
        "\n",
        "  if sum(start) < n <= sum(start+1):\n",
        "    if (start % 2 != 0):\n",
        "      print(str(n - sum(start)) + '/' + str(start))\n",
        "      break\n",
        "    else:\n",
        "      print(str(sum(start+1)-n+1) + '/' + str(n-(sum(start)+1)+1))\n",
        "      break\n",
        "  start += 1\n",
        "\n"
      ]
    }
  ]
}