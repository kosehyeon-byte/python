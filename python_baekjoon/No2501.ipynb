{
 "cells": [
  {
   "cell_type": "code",
   "execution_count": 8,
   "id": "edf4973f",
   "metadata": {},
   "outputs": [
    {
     "name": "stdout",
     "output_type": "stream",
     "text": [
      "1\n"
     ]
    }
   ],
   "source": [
    "import math\n",
    "\n",
    "factor = []\n",
    "a, b = map(int, input().split())\n",
    "for i in range(1, math.isqrt(a)+1):\n",
    "    if a % i == 0:\n",
    "        factor.append(i)\n",
    "        if i != a // i:\n",
    "            factor.append(a // i)\n",
    "\n",
    "factor.sort()\n",
    "\n",
    "if len(factor) < b:\n",
    "    print(0)\n",
    "else:\n",
    "    print(factor[b-1])"
   ]
  }
 ],
 "metadata": {
  "kernelspec": {
   "display_name": "Python 3",
   "language": "python",
   "name": "python3"
  },
  "language_info": {
   "codemirror_mode": {
    "name": "ipython",
    "version": 3
   },
   "file_extension": ".py",
   "mimetype": "text/x-python",
   "name": "python",
   "nbconvert_exporter": "python",
   "pygments_lexer": "ipython3",
   "version": "3.13.7"
  }
 },
 "nbformat": 4,
 "nbformat_minor": 5
}
