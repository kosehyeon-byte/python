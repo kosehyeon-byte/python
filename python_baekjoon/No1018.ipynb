{
 "cells": [
  {
   "cell_type": "code",
   "execution_count": null,
   "id": "9b52f132",
   "metadata": {},
   "outputs": [],
   "source": [
    "import sys\n",
    "input = sys.stdin.readline\n",
    "import math as Math\n",
    "\n",
    "\n",
    "n, m = map(int, input().split())\n",
    "board = [list(input().strip()) for _ in range(n)]\n",
    "line1 = ['W','B'] * 4\n",
    "line2 = ['B','W'] * 4\n",
    "chess1 = [line1, line2] * 4\n",
    "chess2 = [line2, line1] * 4\n",
    "minnum = 64\n",
    "\n",
    "for i in range(n - 7):\n",
    "    for j in range(m - 7):\n",
    "        sub_board = [row[j:j+8] for row in board[i:i+8]]\n",
    "        count1 = sum(sub_board[x][y] != chess1[x][y] for x in range(8) for y in range(8))\n",
    "        count2 = sum(sub_board[x][y] != chess2[x][y] for x in range(8) for y in range(8))\n",
    "        repaint = min(count1, count2)\n",
    "        if repaint < minnum:\n",
    "            minnum = repaint\n",
    "\n",
    "print(minnum)\n",
    "\n",
    "\n"
   ]
  }
 ],
 "metadata": {
  "kernelspec": {
   "display_name": "Python 3",
   "language": "python",
   "name": "python3"
  },
  "language_info": {
   "codemirror_mode": {
    "name": "ipython",
    "version": 3
   },
   "file_extension": ".py",
   "mimetype": "text/x-python",
   "name": "python",
   "nbconvert_exporter": "python",
   "pygments_lexer": "ipython3",
   "version": "3.13.7"
  }
 },
 "nbformat": 4,
 "nbformat_minor": 5
}
