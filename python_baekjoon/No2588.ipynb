{
  "nbformat": 4,
  "nbformat_minor": 0,
  "metadata": {
    "colab": {
      "provenance": []
    },
    "kernelspec": {
      "name": "python3",
      "display_name": "Python 3"
    },
    "language_info": {
      "name": "python"
    }
  },
  "cells": [
    {
      "cell_type": "code",
      "execution_count": 7,
      "metadata": {
        "colab": {
          "base_uri": "https://localhost:8080/"
        },
        "id": "H1TvXVkLxf0_",
        "outputId": "aa84002f-44b9-4f71-ae4d-ac46e8f80521"
      },
      "outputs": [
        {
          "output_type": "stream",
          "name": "stdout",
          "text": [
            "472\n",
            "385\n",
            "2360\n",
            "3776\n",
            "1416\n",
            "181720\n"
          ]
        }
      ],
      "source": [
        "x = int(input())\n",
        "y = int(input())\n",
        "\n",
        "a = x*(y%10)\n",
        "b = x*((y%100)//10)\n",
        "c = x*(y//100)\n",
        "print(a)\n",
        "print(b)\n",
        "print(c)\n",
        "print(c*100 + b*10 + a)"
      ]
    }
  ]
}