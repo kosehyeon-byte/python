{
 "cells": [
  {
   "cell_type": "code",
   "execution_count": null,
   "id": "c4bfb3b3",
   "metadata": {},
   "outputs": [
    {
     "name": "stdout",
     "output_type": "stream",
     "text": [
      "113\n"
     ]
    }
   ],
   "source": [
    "a,b,c = map(int, input().split())\n",
    "sumnum = a + b + c\n",
    "if max(a,b,c) < sum - max(a,b,c):\n",
    "    print(sum)\n",
    "else: print(2 * (sum - max(a,b,c))-1)\n"
   ]
  }
 ],
 "metadata": {
  "kernelspec": {
   "display_name": "Python 3",
   "language": "python",
   "name": "python3"
  },
  "language_info": {
   "codemirror_mode": {
    "name": "ipython",
    "version": 3
   },
   "file_extension": ".py",
   "mimetype": "text/x-python",
   "name": "python",
   "nbconvert_exporter": "python",
   "pygments_lexer": "ipython3",
   "version": "3.13.7"
  }
 },
 "nbformat": 4,
 "nbformat_minor": 5
}
