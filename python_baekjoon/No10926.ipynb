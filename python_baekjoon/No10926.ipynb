{
  "nbformat": 4,
  "nbformat_minor": 0,
  "metadata": {
    "colab": {
      "provenance": []
    },
    "kernelspec": {
      "name": "python3",
      "display_name": "Python 3"
    },
    "language_info": {
      "name": "python"
    }
  },
  "cells": [
    {
      "cell_type": "code",
      "execution_count": 6,
      "metadata": {
        "colab": {
          "base_uri": "https://localhost:8080/"
        },
        "id": "H1TvXVkLxf0_",
        "outputId": "456d0ebe-9fb3-47db-bdba-8d836bd2381e"
      },
      "outputs": [
        {
          "output_type": "stream",
          "name": "stdout",
          "text": [
            "aosi\n",
            "aosi??!\n"
          ]
        }
      ],
      "source": [
        "x = input()\n",
        "\n",
        "print(x + '??!')"
      ]
    }
  ]
}